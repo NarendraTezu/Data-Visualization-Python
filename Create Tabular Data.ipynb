{
 "cells": [
  {
   "cell_type": "markdown",
   "metadata": {
    "id": "1EpJRWocJ1_O"
   },
   "source": [
    "Date       | Symbol | Open   | High   | Low    | Close  | Volume\n",
    "---------------------------------------------------------------\n",
    "2021-01-01 | AAPL   | 132.16 | 134.07 | 131.72 | 133.72 | 1000000\n",
    "2021-01-01 | GOOGL  | 1750.00| 1770.00| 1745.50| 1768.20| 500000\n",
    "2021-01-01 | MSFT   | 216.25 | 218.05 | 215.60 | 217.30 | 750000\n",
    "2021-01-02 | AAPL   | 133.50 | 135.38 | 133.23 | 135.35 | 1200000\n",
    "2021-01-02 | GOOGL  | 1775.00| 1792.50| 1773.25| 1789.80| 600000\n",
    "2021-01-02 | MSFT   | 218.30 | 220.18 | 217.75 | 219.95 | 900000\n"
   ]
  },
  {
   "cell_type": "code",
   "execution_count": 1,
   "metadata": {
    "colab": {
     "base_uri": "https://localhost:8080/",
     "height": 143
    },
    "executionInfo": {
     "elapsed": 397,
     "status": "ok",
     "timestamp": 1686347711969,
     "user": {
      "displayName": "Revendra T",
      "userId": "06547655168140060499"
     },
     "user_tz": 240
    },
    "id": "n7bNZa05J3NW",
    "outputId": "e93f189f-0dc5-40af-b530-a802c4463f4d"
   },
   "outputs": [
    {
     "data": {
      "text/html": [
       "<div>\n",
       "<style scoped>\n",
       "    .dataframe tbody tr th:only-of-type {\n",
       "        vertical-align: middle;\n",
       "    }\n",
       "\n",
       "    .dataframe tbody tr th {\n",
       "        vertical-align: top;\n",
       "    }\n",
       "\n",
       "    .dataframe thead th {\n",
       "        text-align: right;\n",
       "    }\n",
       "</style>\n",
       "<table border=\"1\" class=\"dataframe\">\n",
       "  <thead>\n",
       "    <tr style=\"text-align: right;\">\n",
       "      <th></th>\n",
       "      <th>Date</th>\n",
       "      <th>Ticker</th>\n",
       "      <th>Open</th>\n",
       "      <th>Close</th>\n",
       "      <th>Volume</th>\n",
       "    </tr>\n",
       "  </thead>\n",
       "  <tbody>\n",
       "    <tr>\n",
       "      <th>0</th>\n",
       "      <td>2023-06-01</td>\n",
       "      <td>AAPL</td>\n",
       "      <td>250.10</td>\n",
       "      <td>252.30</td>\n",
       "      <td>1000000</td>\n",
       "    </tr>\n",
       "    <tr>\n",
       "      <th>1</th>\n",
       "      <td>2023-06-02</td>\n",
       "      <td>GOOGL</td>\n",
       "      <td>2100.50</td>\n",
       "      <td>2120.75</td>\n",
       "      <td>500000</td>\n",
       "    </tr>\n",
       "    <tr>\n",
       "      <th>2</th>\n",
       "      <td>2023-06-03</td>\n",
       "      <td>MSFT</td>\n",
       "      <td>300.25</td>\n",
       "      <td>305.40</td>\n",
       "      <td>750000</td>\n",
       "    </tr>\n",
       "  </tbody>\n",
       "</table>\n",
       "</div>"
      ],
      "text/plain": [
       "         Date Ticker     Open    Close   Volume\n",
       "0  2023-06-01   AAPL   250.10   252.30  1000000\n",
       "1  2023-06-02  GOOGL  2100.50  2120.75   500000\n",
       "2  2023-06-03   MSFT   300.25   305.40   750000"
      ]
     },
     "execution_count": 1,
     "metadata": {},
     "output_type": "execute_result"
    }
   ],
   "source": [
    "import pandas as pd\n",
    "\n",
    "# Create a sample DataFrame\n",
    "data = {\n",
    "    'Date': ['2023-06-01', '2023-06-02', '2023-06-03'],\n",
    "    'Ticker': ['AAPL', 'GOOGL', 'MSFT'],\n",
    "    'Open': [250.10, 2100.50, 300.25],\n",
    "    'Close': [252.30, 2120.75, 305.40],\n",
    "    'Volume': [1000000, 500000, 750000]\n",
    "}\n",
    "\n",
    "df = pd.DataFrame(data)\n",
    "\n",
    "# Display the DataFrame\n",
    "df"
   ]
  },
  {
   "cell_type": "code",
   "execution_count": null,
   "metadata": {},
   "outputs": [],
   "source": []
  }
 ],
 "metadata": {
  "colab": {
   "authorship_tag": "ABX9TyMWMStti6q5ueL78MehFsSp",
   "provenance": []
  },
  "kernelspec": {
   "display_name": "Python 3",
   "language": "python",
   "name": "python3"
  },
  "language_info": {
   "codemirror_mode": {
    "name": "ipython",
    "version": 3
   },
   "file_extension": ".py",
   "mimetype": "text/x-python",
   "name": "python",
   "nbconvert_exporter": "python",
   "pygments_lexer": "ipython3",
   "version": "3.8.8"
  }
 },
 "nbformat": 4,
 "nbformat_minor": 1
}
